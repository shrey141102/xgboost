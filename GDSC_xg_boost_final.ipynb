{
  "nbformat": 4,
  "nbformat_minor": 0,
  "metadata": {
    "colab": {
      "provenance": [],
      "collapsed_sections": []
    },
    "kernelspec": {
      "name": "python3",
      "display_name": "Python 3"
    }
  },
  "cells": [
    {
      "cell_type": "markdown",
      "metadata": {
        "id": "8FLud1n-3pVm"
      },
      "source": [
        "# XGBoost"
      ]
    },
    {
      "cell_type": "markdown",
      "metadata": {
        "id": "sO8VPU6n3vES"
      },
      "source": [
        "## Importing the libraries"
      ]
    },
    {
      "cell_type": "code",
      "metadata": {
        "id": "clDSsF7P33NU"
      },
      "source": [
        "import numpy as np\n",
        "import matplotlib.pyplot as plt\n",
        "import pandas as pd"
      ],
      "execution_count": null,
      "outputs": []
    },
    {
      "cell_type": "markdown",
      "metadata": {
        "id": "zGpwK5XD386E"
      },
      "source": [
        "## Importing the dataset and Cleaning it"
      ]
    },
    {
      "cell_type": "code",
      "metadata": {
        "id": "Zcksk88u4Ae8"
      },
      "source": [
        "dataset = pd.read_csv('Train.csv')\n",
        "\n",
        "#Filling missing values\n",
        "#Converting strings into integer values\n",
        "dataset['family history'] = dataset['family history'].map({'Yes': 1, 'No': 0})\n",
        "dataset['Pre-existing symptoms'] = dataset['Pre-existing symptoms'].map({'?' : 0, '1': 1, 'NaN' : 0,})\n",
        "dataset['Region'] = dataset['Region'].map({'Americas': 1, 'Europe': 0, 'East Mediterranean' : 2, 'Africa' : 3})\n",
        "dataset['Pre-existing symptoms'] = dataset['Pre-existing symptoms'].astype('Int64')\n",
        "\n",
        "dataset['Variant'] = dataset['Variant'].map({'Variant 1': 1, 'Variant 2': 2, 'Variant 3' : 3, 'Variant 4': 4, 'Variant 5': 5, 'Variant 6' : 6,})\n",
        "for column in dataset.columns:\n",
        "  dataset[column] = dataset[column].astype('float32')\n",
        "dataset.fillna(0, inplace = True)\n",
        "\n",
        "X = dataset.iloc[:, 1:-1].values\n",
        "y = dataset.iloc[:, -1].values"
      ],
      "execution_count": null,
      "outputs": []
    },
    {
      "cell_type": "code",
      "source": [
        "test = pd.read_csv('Test.csv')\n",
        "test.fillna(0, inplace = True)\n",
        "\n",
        "#cleaning test set\n",
        "test['family history'] = test['family history'].map({'Yes': 1, 'No': 0})\n",
        "test['Region'] = test['Region'].map({'Americas': 1, 'Europe': 0, 'East Mediterranean' : 2, 'Africa' : 3})\n",
        "\n",
        "#removing ID column\n",
        "test.drop('ID', inplace=True, axis=1)\n",
        "\n",
        "for column in test.columns:\n",
        "  test[column] = test[column].astype('float32')\n",
        "\n",
        "# from sklearn.model_selection import train_test_split\n",
        "# X_train, X_test, y_train, y_test = train_test_split(test, y[:177], test_size = 0.2, random_state = 0"
      ],
      "metadata": {
        "id": "yUGGWWzKG4lw"
      },
      "execution_count": null,
      "outputs": []
    },
    {
      "cell_type": "code",
      "source": [
        "dataset.dtypes"
      ],
      "metadata": {
        "colab": {
          "base_uri": "https://localhost:8080/"
        },
        "id": "L67uIa6z5GiT",
        "outputId": "c2ebe764-8524-4c7b-bc0a-c8a866dd5afe"
      },
      "execution_count": null,
      "outputs": [
        {
          "output_type": "execute_result",
          "data": {
            "text/plain": [
              "ID                       float32\n",
              "Cough                    float32\n",
              "Shortness of breath      float32\n",
              "Fatigue                  float32\n",
              "body aches               float32\n",
              "Headache                 float32\n",
              "Loss of taste            float32\n",
              "family history           float32\n",
              "Loss of smell            float32\n",
              "Nausea                   float32\n",
              "Diarrhea                 float32\n",
              "Misc Symptom 1           float32\n",
              "Congestion               float32\n",
              "Sore throat              float32\n",
              "Region                   float32\n",
              "Misc Symptom 2           float32\n",
              "Misc Symptom 3           float32\n",
              "Misc Symptom 4           float32\n",
              "Misc Symptom 5           float32\n",
              "Misc Symptom 6           float32\n",
              "Misc Symptom 7           float32\n",
              "Pre-existing symptoms    float32\n",
              "Age                      float32\n",
              "Variant                  float32\n",
              "dtype: object"
            ]
          },
          "metadata": {},
          "execution_count": 122
        }
      ]
    },
    {
      "cell_type": "code",
      "source": [
        "dataset.head()"
      ],
      "metadata": {
        "colab": {
          "base_uri": "https://localhost:8080/",
          "height": 305
        },
        "id": "cd9OGMp55IJK",
        "outputId": "8386022d-94b7-4eb1-aff7-76027c78263a"
      },
      "execution_count": null,
      "outputs": [
        {
          "output_type": "execute_result",
          "data": {
            "text/plain": [
              "      ID  Cough  Shortness of breath  ...  Pre-existing symptoms   Age  Variant\n",
              "0  309.0    2.0                  3.0  ...                    0.0  31.0      1.0\n",
              "1  486.0    2.0                  2.0  ...                    0.0  22.0      2.0\n",
              "2  199.0    3.0                  3.0  ...                    0.0  18.0      1.0\n",
              "3  495.0    2.0                  1.0  ...                    0.0  23.0      3.0\n",
              "4  401.0    3.0                  2.0  ...                    0.0  56.0      1.0\n",
              "\n",
              "[5 rows x 24 columns]"
            ],
            "text/html": [
              "\n",
              "  <div id=\"df-367d1f7c-71d7-4d26-9484-3989f5cbfd60\">\n",
              "    <div class=\"colab-df-container\">\n",
              "      <div>\n",
              "<style scoped>\n",
              "    .dataframe tbody tr th:only-of-type {\n",
              "        vertical-align: middle;\n",
              "    }\n",
              "\n",
              "    .dataframe tbody tr th {\n",
              "        vertical-align: top;\n",
              "    }\n",
              "\n",
              "    .dataframe thead th {\n",
              "        text-align: right;\n",
              "    }\n",
              "</style>\n",
              "<table border=\"1\" class=\"dataframe\">\n",
              "  <thead>\n",
              "    <tr style=\"text-align: right;\">\n",
              "      <th></th>\n",
              "      <th>ID</th>\n",
              "      <th>Cough</th>\n",
              "      <th>Shortness of breath</th>\n",
              "      <th>Fatigue</th>\n",
              "      <th>body aches</th>\n",
              "      <th>Headache</th>\n",
              "      <th>Loss of taste</th>\n",
              "      <th>family history</th>\n",
              "      <th>Loss of smell</th>\n",
              "      <th>Nausea</th>\n",
              "      <th>Diarrhea</th>\n",
              "      <th>Misc Symptom 1</th>\n",
              "      <th>Congestion</th>\n",
              "      <th>Sore throat</th>\n",
              "      <th>Region</th>\n",
              "      <th>Misc Symptom 2</th>\n",
              "      <th>Misc Symptom 3</th>\n",
              "      <th>Misc Symptom 4</th>\n",
              "      <th>Misc Symptom 5</th>\n",
              "      <th>Misc Symptom 6</th>\n",
              "      <th>Misc Symptom 7</th>\n",
              "      <th>Pre-existing symptoms</th>\n",
              "      <th>Age</th>\n",
              "      <th>Variant</th>\n",
              "    </tr>\n",
              "  </thead>\n",
              "  <tbody>\n",
              "    <tr>\n",
              "      <th>0</th>\n",
              "      <td>309.0</td>\n",
              "      <td>2.0</td>\n",
              "      <td>3.0</td>\n",
              "      <td>2.0</td>\n",
              "      <td>0.0</td>\n",
              "      <td>2.0</td>\n",
              "      <td>0.0</td>\n",
              "      <td>1.0</td>\n",
              "      <td>2.0</td>\n",
              "      <td>0.0</td>\n",
              "      <td>0.0</td>\n",
              "      <td>2.0</td>\n",
              "      <td>2.0</td>\n",
              "      <td>3.0</td>\n",
              "      <td>1.0</td>\n",
              "      <td>0.0</td>\n",
              "      <td>1.0</td>\n",
              "      <td>2.0</td>\n",
              "      <td>0.0</td>\n",
              "      <td>0.0</td>\n",
              "      <td>2.0</td>\n",
              "      <td>0.0</td>\n",
              "      <td>31.0</td>\n",
              "      <td>1.0</td>\n",
              "    </tr>\n",
              "    <tr>\n",
              "      <th>1</th>\n",
              "      <td>486.0</td>\n",
              "      <td>2.0</td>\n",
              "      <td>2.0</td>\n",
              "      <td>1.0</td>\n",
              "      <td>0.0</td>\n",
              "      <td>0.0</td>\n",
              "      <td>0.0</td>\n",
              "      <td>1.0</td>\n",
              "      <td>1.0</td>\n",
              "      <td>0.0</td>\n",
              "      <td>2.0</td>\n",
              "      <td>1.0</td>\n",
              "      <td>0.0</td>\n",
              "      <td>0.0</td>\n",
              "      <td>0.0</td>\n",
              "      <td>1.0</td>\n",
              "      <td>0.0</td>\n",
              "      <td>0.0</td>\n",
              "      <td>3.0</td>\n",
              "      <td>0.0</td>\n",
              "      <td>0.0</td>\n",
              "      <td>0.0</td>\n",
              "      <td>22.0</td>\n",
              "      <td>2.0</td>\n",
              "    </tr>\n",
              "    <tr>\n",
              "      <th>2</th>\n",
              "      <td>199.0</td>\n",
              "      <td>3.0</td>\n",
              "      <td>3.0</td>\n",
              "      <td>3.0</td>\n",
              "      <td>0.0</td>\n",
              "      <td>2.0</td>\n",
              "      <td>0.0</td>\n",
              "      <td>1.0</td>\n",
              "      <td>2.0</td>\n",
              "      <td>0.0</td>\n",
              "      <td>0.0</td>\n",
              "      <td>2.0</td>\n",
              "      <td>2.0</td>\n",
              "      <td>3.0</td>\n",
              "      <td>0.0</td>\n",
              "      <td>3.0</td>\n",
              "      <td>0.0</td>\n",
              "      <td>2.0</td>\n",
              "      <td>0.0</td>\n",
              "      <td>0.0</td>\n",
              "      <td>0.0</td>\n",
              "      <td>0.0</td>\n",
              "      <td>18.0</td>\n",
              "      <td>1.0</td>\n",
              "    </tr>\n",
              "    <tr>\n",
              "      <th>3</th>\n",
              "      <td>495.0</td>\n",
              "      <td>2.0</td>\n",
              "      <td>1.0</td>\n",
              "      <td>3.0</td>\n",
              "      <td>0.0</td>\n",
              "      <td>2.0</td>\n",
              "      <td>0.0</td>\n",
              "      <td>1.0</td>\n",
              "      <td>0.0</td>\n",
              "      <td>0.0</td>\n",
              "      <td>3.0</td>\n",
              "      <td>0.0</td>\n",
              "      <td>0.0</td>\n",
              "      <td>0.0</td>\n",
              "      <td>0.0</td>\n",
              "      <td>0.0</td>\n",
              "      <td>0.0</td>\n",
              "      <td>0.0</td>\n",
              "      <td>0.0</td>\n",
              "      <td>0.0</td>\n",
              "      <td>0.0</td>\n",
              "      <td>0.0</td>\n",
              "      <td>23.0</td>\n",
              "      <td>3.0</td>\n",
              "    </tr>\n",
              "    <tr>\n",
              "      <th>4</th>\n",
              "      <td>401.0</td>\n",
              "      <td>3.0</td>\n",
              "      <td>2.0</td>\n",
              "      <td>2.0</td>\n",
              "      <td>0.0</td>\n",
              "      <td>0.0</td>\n",
              "      <td>0.0</td>\n",
              "      <td>1.0</td>\n",
              "      <td>2.0</td>\n",
              "      <td>0.0</td>\n",
              "      <td>0.0</td>\n",
              "      <td>1.0</td>\n",
              "      <td>0.0</td>\n",
              "      <td>2.0</td>\n",
              "      <td>1.0</td>\n",
              "      <td>0.0</td>\n",
              "      <td>0.0</td>\n",
              "      <td>0.0</td>\n",
              "      <td>0.0</td>\n",
              "      <td>0.0</td>\n",
              "      <td>0.0</td>\n",
              "      <td>0.0</td>\n",
              "      <td>56.0</td>\n",
              "      <td>1.0</td>\n",
              "    </tr>\n",
              "  </tbody>\n",
              "</table>\n",
              "</div>\n",
              "      <button class=\"colab-df-convert\" onclick=\"convertToInteractive('df-367d1f7c-71d7-4d26-9484-3989f5cbfd60')\"\n",
              "              title=\"Convert this dataframe to an interactive table.\"\n",
              "              style=\"display:none;\">\n",
              "        \n",
              "  <svg xmlns=\"http://www.w3.org/2000/svg\" height=\"24px\"viewBox=\"0 0 24 24\"\n",
              "       width=\"24px\">\n",
              "    <path d=\"M0 0h24v24H0V0z\" fill=\"none\"/>\n",
              "    <path d=\"M18.56 5.44l.94 2.06.94-2.06 2.06-.94-2.06-.94-.94-2.06-.94 2.06-2.06.94zm-11 1L8.5 8.5l.94-2.06 2.06-.94-2.06-.94L8.5 2.5l-.94 2.06-2.06.94zm10 10l.94 2.06.94-2.06 2.06-.94-2.06-.94-.94-2.06-.94 2.06-2.06.94z\"/><path d=\"M17.41 7.96l-1.37-1.37c-.4-.4-.92-.59-1.43-.59-.52 0-1.04.2-1.43.59L10.3 9.45l-7.72 7.72c-.78.78-.78 2.05 0 2.83L4 21.41c.39.39.9.59 1.41.59.51 0 1.02-.2 1.41-.59l7.78-7.78 2.81-2.81c.8-.78.8-2.07 0-2.86zM5.41 20L4 18.59l7.72-7.72 1.47 1.35L5.41 20z\"/>\n",
              "  </svg>\n",
              "      </button>\n",
              "      \n",
              "  <style>\n",
              "    .colab-df-container {\n",
              "      display:flex;\n",
              "      flex-wrap:wrap;\n",
              "      gap: 12px;\n",
              "    }\n",
              "\n",
              "    .colab-df-convert {\n",
              "      background-color: #E8F0FE;\n",
              "      border: none;\n",
              "      border-radius: 50%;\n",
              "      cursor: pointer;\n",
              "      display: none;\n",
              "      fill: #1967D2;\n",
              "      height: 32px;\n",
              "      padding: 0 0 0 0;\n",
              "      width: 32px;\n",
              "    }\n",
              "\n",
              "    .colab-df-convert:hover {\n",
              "      background-color: #E2EBFA;\n",
              "      box-shadow: 0px 1px 2px rgba(60, 64, 67, 0.3), 0px 1px 3px 1px rgba(60, 64, 67, 0.15);\n",
              "      fill: #174EA6;\n",
              "    }\n",
              "\n",
              "    [theme=dark] .colab-df-convert {\n",
              "      background-color: #3B4455;\n",
              "      fill: #D2E3FC;\n",
              "    }\n",
              "\n",
              "    [theme=dark] .colab-df-convert:hover {\n",
              "      background-color: #434B5C;\n",
              "      box-shadow: 0px 1px 3px 1px rgba(0, 0, 0, 0.15);\n",
              "      filter: drop-shadow(0px 1px 2px rgba(0, 0, 0, 0.3));\n",
              "      fill: #FFFFFF;\n",
              "    }\n",
              "  </style>\n",
              "\n",
              "      <script>\n",
              "        const buttonEl =\n",
              "          document.querySelector('#df-367d1f7c-71d7-4d26-9484-3989f5cbfd60 button.colab-df-convert');\n",
              "        buttonEl.style.display =\n",
              "          google.colab.kernel.accessAllowed ? 'block' : 'none';\n",
              "\n",
              "        async function convertToInteractive(key) {\n",
              "          const element = document.querySelector('#df-367d1f7c-71d7-4d26-9484-3989f5cbfd60');\n",
              "          const dataTable =\n",
              "            await google.colab.kernel.invokeFunction('convertToInteractive',\n",
              "                                                     [key], {});\n",
              "          if (!dataTable) return;\n",
              "\n",
              "          const docLinkHtml = 'Like what you see? Visit the ' +\n",
              "            '<a target=\"_blank\" href=https://colab.research.google.com/notebooks/data_table.ipynb>data table notebook</a>'\n",
              "            + ' to learn more about interactive tables.';\n",
              "          element.innerHTML = '';\n",
              "          dataTable['output_type'] = 'display_data';\n",
              "          await google.colab.output.renderOutput(dataTable, element);\n",
              "          const docLink = document.createElement('div');\n",
              "          docLink.innerHTML = docLinkHtml;\n",
              "          element.appendChild(docLink);\n",
              "        }\n",
              "      </script>\n",
              "    </div>\n",
              "  </div>\n",
              "  "
            ]
          },
          "metadata": {},
          "execution_count": 123
        }
      ]
    },
    {
      "cell_type": "markdown",
      "metadata": {
        "id": "XNn2RnST6_Q-"
      },
      "source": [
        "## Splitting the dataset into the Training set and Test set"
      ]
    },
    {
      "cell_type": "code",
      "metadata": {
        "id": "ajhBL-er7Gry"
      },
      "source": [
        "from sklearn.model_selection import train_test_split\n",
        "X_train, X_test, y_train, y_test = train_test_split(X, y, test_size = 0.2, random_state = 0)"
      ],
      "execution_count": null,
      "outputs": []
    },
    {
      "cell_type": "markdown",
      "metadata": {
        "id": "1Y89ctGZ7Mcx"
      },
      "source": [
        "## Training XGBoost on the Training set"
      ]
    },
    {
      "cell_type": "code",
      "metadata": {
        "id": "ude1J0E47SKN",
        "colab": {
          "base_uri": "https://localhost:8080/"
        },
        "outputId": "bd76e2b0-3cc7-430b-f5d1-30cd78285b68"
      },
      "source": [
        "from xgboost import XGBClassifier\n",
        "classifier = XGBClassifier()\n",
        "classifier.fit(X_train, y_train)"
      ],
      "execution_count": null,
      "outputs": [
        {
          "output_type": "execute_result",
          "data": {
            "text/plain": [
              "XGBClassifier(objective='multi:softprob')"
            ]
          },
          "metadata": {},
          "execution_count": 125
        }
      ]
    },
    {
      "cell_type": "code",
      "source": [
        "X_train, X_test, y_train, y_test = train_test_split(X, y, test_size = 0.2, random_state = 5)"
      ],
      "metadata": {
        "id": "3v4W2evkKPIo"
      },
      "execution_count": null,
      "outputs": []
    },
    {
      "cell_type": "markdown",
      "metadata": {
        "id": "ivqmubzW7dFJ"
      },
      "source": [
        "## Making the Confusion Matrix"
      ]
    },
    {
      "cell_type": "code",
      "metadata": {
        "id": "SUSZ3zm_7gRD",
        "colab": {
          "base_uri": "https://localhost:8080/"
        },
        "outputId": "df073b2f-d0eb-443d-b04b-f6f212da79ed"
      },
      "source": [
        "from sklearn.metrics import confusion_matrix, accuracy_score\n",
        "y_pred = classifier.predict(X_test)\n",
        "cm = confusion_matrix(y_test, y_pred)\n",
        "print(cm)\n",
        "accuracy_score(y_test, y_pred)"
      ],
      "execution_count": null,
      "outputs": [
        {
          "output_type": "stream",
          "name": "stdout",
          "text": [
            "[[35  0  0  0  0  0]\n",
            " [ 0 29  0  0  0  0]\n",
            " [ 0  0  8  1  0  0]\n",
            " [ 0  0  0  5  0  0]\n",
            " [ 0  0  0  1  2  0]\n",
            " [ 0  0  0  0  0  2]]\n"
          ]
        },
        {
          "output_type": "execute_result",
          "data": {
            "text/plain": [
              "0.9759036144578314"
            ]
          },
          "metadata": {},
          "execution_count": 127
        }
      ]
    },
    {
      "cell_type": "markdown",
      "metadata": {
        "id": "EnbCjHgQ8XPn"
      },
      "source": [
        "## Applying k-Fold Cross Validation"
      ]
    },
    {
      "cell_type": "code",
      "metadata": {
        "id": "yYbfiITD8ZAz",
        "colab": {
          "base_uri": "https://localhost:8080/"
        },
        "outputId": "1a39df0e-7ecb-43ce-a3e0-d09b2db96c2b"
      },
      "source": [
        "from sklearn.model_selection import cross_val_score\n",
        "accuracies = cross_val_score(estimator = classifier, X = X_train, y = y_train, cv = 10)\n",
        "print(\"Accuracy: {:.2f} %\".format(accuracies.mean()*100))\n",
        "print(\"Standard Deviation: {:.2f} %\".format(accuracies.std()*100))"
      ],
      "execution_count": null,
      "outputs": [
        {
          "output_type": "stream",
          "name": "stderr",
          "text": [
            "/usr/local/lib/python3.7/dist-packages/sklearn/model_selection/_split.py:680: UserWarning: The least populated class in y has only 9 members, which is less than n_splits=10.\n",
            "  UserWarning,\n"
          ]
        },
        {
          "output_type": "stream",
          "name": "stdout",
          "text": [
            "Accuracy: 91.80 %\n",
            "Standard Deviation: 3.59 %\n"
          ]
        }
      ]
    },
    {
      "cell_type": "markdown",
      "source": [
        "#Predicting Results from Test.csv"
      ],
      "metadata": {
        "id": "cAh89W7CHV26"
      }
    },
    {
      "cell_type": "code",
      "source": [
        "id = pd.read_csv('Test.csv').iloc[:, 0].values"
      ],
      "metadata": {
        "id": "BjzDhxFlHXPu"
      },
      "execution_count": null,
      "outputs": []
    },
    {
      "cell_type": "code",
      "source": [
        "print(test)"
      ],
      "metadata": {
        "colab": {
          "base_uri": "https://localhost:8080/"
        },
        "id": "3aYtL96UKWsP",
        "outputId": "6ebe23c8-c804-4206-f387-cf7dd171fa77"
      },
      "execution_count": null,
      "outputs": [
        {
          "output_type": "stream",
          "name": "stdout",
          "text": [
            "     Cough  Shortness of breath  ...  Pre-existing symptoms   Age\n",
            "0      1.0                  2.0  ...                    0.0  17.0\n",
            "1      3.0                  2.0  ...                    0.0  35.0\n",
            "2      2.0                  3.0  ...                    0.0  28.0\n",
            "3      2.0                  2.0  ...                    0.0  40.0\n",
            "4      1.0                  2.0  ...                    0.0  34.0\n",
            "..     ...                  ...  ...                    ...   ...\n",
            "172    2.0                  1.0  ...                    0.0  47.0\n",
            "173    2.0                  2.0  ...                    0.0  30.0\n",
            "174    3.0                  2.0  ...                    0.0  37.0\n",
            "175    2.0                  1.0  ...                    0.0  37.0\n",
            "176    3.0                  2.0  ...                    0.0  15.0\n",
            "\n",
            "[177 rows x 22 columns]\n"
          ]
        }
      ]
    },
    {
      "cell_type": "code",
      "source": [
        "y_pred = classifier.predict(test.values)\n",
        "print(y_pred)"
      ],
      "metadata": {
        "colab": {
          "base_uri": "https://localhost:8080/"
        },
        "id": "o7W_ti1THX4H",
        "outputId": "7d8e1be9-4a36-4ceb-a1ea-59e8d3aba43b"
      },
      "execution_count": null,
      "outputs": [
        {
          "output_type": "stream",
          "name": "stdout",
          "text": [
            "[5. 1. 1. 1. 4. 1. 1. 5. 5. 3. 6. 3. 6. 2. 2. 1. 2. 1. 6. 2. 4. 1. 5. 3.\n",
            " 5. 1. 2. 2. 1. 6. 1. 1. 1. 4. 1. 3. 6. 1. 2. 4. 3. 4. 2. 2. 2. 3. 5. 5.\n",
            " 6. 2. 1. 2. 4. 5. 3. 3. 1. 1. 2. 5. 5. 1. 5. 2. 1. 1. 2. 2. 1. 5. 1. 1.\n",
            " 1. 2. 3. 1. 2. 1. 4. 4. 4. 2. 3. 5. 1. 3. 5. 2. 3. 2. 2. 1. 2. 1. 2. 5.\n",
            " 3. 2. 2. 1. 2. 2. 1. 2. 2. 2. 3. 2. 4. 1. 1. 6. 4. 2. 2. 5. 1. 2. 2. 3.\n",
            " 2. 1. 2. 1. 1. 2. 2. 2. 1. 1. 2. 1. 2. 5. 2. 5. 3. 1. 2. 2. 1. 6. 1. 1.\n",
            " 2. 1. 3. 2. 3. 1. 1. 1. 2. 4. 1. 2. 3. 2. 5. 1. 2. 3. 1. 2. 2. 2. 1. 4.\n",
            " 2. 1. 1. 1. 1. 3. 2. 2. 1.]\n"
          ]
        }
      ]
    },
    {
      "cell_type": "code",
      "source": [
        "arr = []\n",
        "c=0\n",
        "for i in y_pred:\n",
        "\n",
        "  if (i==1):\n",
        "    abc = [(int)(id[c]),\n",
        "            'Variant 1']\n",
        "    c=c+1\n",
        "    arr.append(abc)\n",
        "\n",
        "  elif (i==2):\n",
        "    abc = [(int)(id[c]),\n",
        "            'Variant 2']\n",
        "    c=c+1\n",
        "    arr.append(abc)\n",
        "  \n",
        "  elif (i==3):\n",
        "    abc = [(int)(id[c]),\n",
        "            'Variant 3']\n",
        "    c=c+1\n",
        "    arr.append(abc)\n",
        "\n",
        "  elif (i==4):\n",
        "    abc = [(int)(id[c]),\n",
        "            'Variant 4']\n",
        "    c=c+1\n",
        "    arr.append(abc)\n",
        "\n",
        "  elif (i==5):\n",
        "    abc = [(int)(id[c]),\n",
        "            'Variant 5']\n",
        "    c=c+1\n",
        "    arr.append(abc)\n",
        "\n",
        "  else:\n",
        "    abc = [(int)(id[c]),\n",
        "            'Variant 6']\n",
        "    c=c+1\n",
        "    arr.append(abc)\n",
        "\n",
        "print(arr)"
      ],
      "metadata": {
        "colab": {
          "base_uri": "https://localhost:8080/"
        },
        "id": "21oW4BzuHZ0C",
        "outputId": "059898f9-a1f3-4599-97c2-8395d6e64ab7"
      },
      "execution_count": null,
      "outputs": [
        {
          "output_type": "stream",
          "name": "stdout",
          "text": [
            "[[95, 'Variant 5'], [502, 'Variant 1'], [203, 'Variant 1'], [290, 'Variant 1'], [479, 'Variant 4'], [478, 'Variant 1'], [167, 'Variant 1'], [536, 'Variant 5'], [456, 'Variant 5'], [147, 'Variant 3'], [442, 'Variant 6'], [455, 'Variant 3'], [326, 'Variant 6'], [357, 'Variant 2'], [513, 'Variant 2'], [25, 'Variant 1'], [470, 'Variant 2'], [537, 'Variant 1'], [310, 'Variant 6'], [101, 'Variant 2'], [344, 'Variant 4'], [307, 'Variant 1'], [19, 'Variant 5'], [38, 'Variant 3'], [39, 'Variant 5'], [86, 'Variant 1'], [394, 'Variant 2'], [303, 'Variant 2'], [260, 'Variant 1'], [312, 'Variant 6'], [180, 'Variant 1'], [373, 'Variant 1'], [130, 'Variant 1'], [113, 'Variant 4'], [26, 'Variant 1'], [319, 'Variant 3'], [557, 'Variant 6'], [588, 'Variant 1'], [228, 'Variant 2'], [447, 'Variant 4'], [90, 'Variant 3'], [168, 'Variant 4'], [250, 'Variant 2'], [207, 'Variant 2'], [213, 'Variant 2'], [317, 'Variant 3'], [21, 'Variant 5'], [234, 'Variant 5'], [407, 'Variant 6'], [114, 'Variant 2'], [327, 'Variant 1'], [581, 'Variant 2'], [348, 'Variant 4'], [271, 'Variant 5'], [8, 'Variant 3'], [350, 'Variant 3'], [492, 'Variant 1'], [510, 'Variant 1'], [543, 'Variant 2'], [58, 'Variant 5'], [146, 'Variant 5'], [540, 'Variant 1'], [534, 'Variant 5'], [512, 'Variant 2'], [16, 'Variant 1'], [522, 'Variant 1'], [368, 'Variant 2'], [31, 'Variant 2'], [436, 'Variant 1'], [343, 'Variant 5'], [416, 'Variant 1'], [77, 'Variant 1'], [134, 'Variant 1'], [49, 'Variant 2'], [107, 'Variant 3'], [483, 'Variant 1'], [451, 'Variant 2'], [329, 'Variant 1'], [565, 'Variant 4'], [514, 'Variant 4'], [551, 'Variant 4'], [170, 'Variant 2'], [399, 'Variant 3'], [210, 'Variant 5'], [111, 'Variant 1'], [482, 'Variant 3'], [518, 'Variant 5'], [263, 'Variant 2'], [142, 'Variant 3'], [542, 'Variant 2'], [181, 'Variant 2'], [586, 'Variant 1'], [505, 'Variant 2'], [270, 'Variant 1'], [393, 'Variant 2'], [389, 'Variant 5'], [476, 'Variant 3'], [232, 'Variant 2'], [64, 'Variant 2'], [248, 'Variant 1'], [98, 'Variant 2'], [128, 'Variant 2'], [576, 'Variant 1'], [585, 'Variant 2'], [547, 'Variant 2'], [239, 'Variant 2'], [4, 'Variant 3'], [11, 'Variant 2'], [308, 'Variant 4'], [89, 'Variant 1'], [288, 'Variant 1'], [531, 'Variant 6'], [362, 'Variant 4'], [477, 'Variant 2'], [500, 'Variant 2'], [571, 'Variant 5'], [342, 'Variant 1'], [463, 'Variant 2'], [419, 'Variant 2'], [324, 'Variant 3'], [425, 'Variant 2'], [253, 'Variant 1'], [238, 'Variant 2'], [466, 'Variant 1'], [47, 'Variant 1'], [99, 'Variant 2'], [493, 'Variant 2'], [230, 'Variant 2'], [450, 'Variant 1'], [217, 'Variant 1'], [121, 'Variant 2'], [51, 'Variant 1'], [136, 'Variant 2'], [116, 'Variant 5'], [439, 'Variant 2'], [527, 'Variant 5'], [17, 'Variant 3'], [208, 'Variant 1'], [465, 'Variant 2'], [508, 'Variant 2'], [71, 'Variant 1'], [422, 'Variant 6'], [559, 'Variant 1'], [446, 'Variant 1'], [382, 'Variant 2'], [275, 'Variant 1'], [127, 'Variant 3'], [3, 'Variant 2'], [277, 'Variant 3'], [126, 'Variant 1'], [564, 'Variant 1'], [242, 'Variant 1'], [151, 'Variant 2'], [0, 'Variant 4'], [50, 'Variant 1'], [490, 'Variant 2'], [539, 'Variant 3'], [189, 'Variant 2'], [268, 'Variant 5'], [14, 'Variant 1'], [494, 'Variant 2'], [184, 'Variant 3'], [420, 'Variant 1'], [424, 'Variant 2'], [509, 'Variant 2'], [183, 'Variant 2'], [491, 'Variant 1'], [45, 'Variant 4'], [339, 'Variant 2'], [46, 'Variant 1'], [360, 'Variant 1'], [471, 'Variant 1'], [398, 'Variant 1'], [117, 'Variant 3'], [74, 'Variant 2'], [299, 'Variant 2'], [94, 'Variant 1']]\n"
          ]
        }
      ]
    },
    {
      "cell_type": "markdown",
      "source": [
        "Taking output as csv file for Kaggle submission"
      ],
      "metadata": {
        "id": "Ztqbwpvi4a0b"
      }
    },
    {
      "cell_type": "code",
      "source": [
        "df = pd.DataFrame(arr)\n",
        "df.to_csv('GDSC test results.csv', index=False)"
      ],
      "metadata": {
        "id": "WBVgLOgFHvMy"
      },
      "execution_count": null,
      "outputs": []
    },
    {
      "cell_type": "markdown",
      "source": [
        "##Exploratory Data Analysis"
      ],
      "metadata": {
        "id": "DILMdVle4fz9"
      }
    },
    {
      "cell_type": "code",
      "source": [
        "dataset.describe()"
      ],
      "metadata": {
        "colab": {
          "base_uri": "https://localhost:8080/",
          "height": 399
        },
        "id": "65PXsTYm5OkH",
        "outputId": "05328fb3-5a37-4e60-e7c9-343da185a1c0"
      },
      "execution_count": null,
      "outputs": [
        {
          "output_type": "execute_result",
          "data": {
            "text/plain": [
              "               ID       Cough  ...         Age     Variant\n",
              "count  412.000000  412.000000  ...  412.000000  412.000000\n",
              "mean   290.992706    2.165049  ...   37.308254    2.191748\n",
              "std    166.180939    0.652110  ...   14.135756    1.388037\n",
              "min      1.000000    0.000000  ...    0.000000    1.000000\n",
              "25%    153.750000    2.000000  ...   26.000000    1.000000\n",
              "50%    288.000000    2.000000  ...   36.000000    2.000000\n",
              "75%    428.250000    3.000000  ...   49.250000    3.000000\n",
              "max    587.000000    3.000000  ...   75.000000    6.000000\n",
              "\n",
              "[8 rows x 24 columns]"
            ],
            "text/html": [
              "\n",
              "  <div id=\"df-f198fee6-8197-4626-955b-1ec7cfb9fb3e\">\n",
              "    <div class=\"colab-df-container\">\n",
              "      <div>\n",
              "<style scoped>\n",
              "    .dataframe tbody tr th:only-of-type {\n",
              "        vertical-align: middle;\n",
              "    }\n",
              "\n",
              "    .dataframe tbody tr th {\n",
              "        vertical-align: top;\n",
              "    }\n",
              "\n",
              "    .dataframe thead th {\n",
              "        text-align: right;\n",
              "    }\n",
              "</style>\n",
              "<table border=\"1\" class=\"dataframe\">\n",
              "  <thead>\n",
              "    <tr style=\"text-align: right;\">\n",
              "      <th></th>\n",
              "      <th>ID</th>\n",
              "      <th>Cough</th>\n",
              "      <th>Shortness of breath</th>\n",
              "      <th>Fatigue</th>\n",
              "      <th>body aches</th>\n",
              "      <th>Headache</th>\n",
              "      <th>Loss of taste</th>\n",
              "      <th>family history</th>\n",
              "      <th>Loss of smell</th>\n",
              "      <th>Nausea</th>\n",
              "      <th>Diarrhea</th>\n",
              "      <th>Misc Symptom 1</th>\n",
              "      <th>Congestion</th>\n",
              "      <th>Sore throat</th>\n",
              "      <th>Region</th>\n",
              "      <th>Misc Symptom 2</th>\n",
              "      <th>Misc Symptom 3</th>\n",
              "      <th>Misc Symptom 4</th>\n",
              "      <th>Misc Symptom 5</th>\n",
              "      <th>Misc Symptom 6</th>\n",
              "      <th>Misc Symptom 7</th>\n",
              "      <th>Pre-existing symptoms</th>\n",
              "      <th>Age</th>\n",
              "      <th>Variant</th>\n",
              "    </tr>\n",
              "  </thead>\n",
              "  <tbody>\n",
              "    <tr>\n",
              "      <th>count</th>\n",
              "      <td>412.000000</td>\n",
              "      <td>412.000000</td>\n",
              "      <td>412.000000</td>\n",
              "      <td>412.000000</td>\n",
              "      <td>412.000000</td>\n",
              "      <td>412.000000</td>\n",
              "      <td>412.000000</td>\n",
              "      <td>412.000000</td>\n",
              "      <td>412.000000</td>\n",
              "      <td>412.000000</td>\n",
              "      <td>412.000000</td>\n",
              "      <td>412.000000</td>\n",
              "      <td>412.000000</td>\n",
              "      <td>412.000000</td>\n",
              "      <td>412.000000</td>\n",
              "      <td>412.000000</td>\n",
              "      <td>412.000000</td>\n",
              "      <td>412.000000</td>\n",
              "      <td>412.000000</td>\n",
              "      <td>412.000000</td>\n",
              "      <td>412.000000</td>\n",
              "      <td>412.000000</td>\n",
              "      <td>412.000000</td>\n",
              "      <td>412.000000</td>\n",
              "    </tr>\n",
              "    <tr>\n",
              "      <th>mean</th>\n",
              "      <td>290.992706</td>\n",
              "      <td>2.165049</td>\n",
              "      <td>1.941748</td>\n",
              "      <td>1.553398</td>\n",
              "      <td>0.094660</td>\n",
              "      <td>0.745146</td>\n",
              "      <td>0.701456</td>\n",
              "      <td>0.854369</td>\n",
              "      <td>0.783981</td>\n",
              "      <td>0.169903</td>\n",
              "      <td>1.274272</td>\n",
              "      <td>1.419903</td>\n",
              "      <td>0.905340</td>\n",
              "      <td>1.133495</td>\n",
              "      <td>0.691748</td>\n",
              "      <td>0.398058</td>\n",
              "      <td>0.480583</td>\n",
              "      <td>0.604369</td>\n",
              "      <td>0.973301</td>\n",
              "      <td>0.058252</td>\n",
              "      <td>0.689320</td>\n",
              "      <td>0.016990</td>\n",
              "      <td>37.308254</td>\n",
              "      <td>2.191748</td>\n",
              "    </tr>\n",
              "    <tr>\n",
              "      <th>std</th>\n",
              "      <td>166.180939</td>\n",
              "      <td>0.652110</td>\n",
              "      <td>0.698629</td>\n",
              "      <td>0.898533</td>\n",
              "      <td>0.428056</td>\n",
              "      <td>1.058209</td>\n",
              "      <td>1.011225</td>\n",
              "      <td>0.353165</td>\n",
              "      <td>0.873751</td>\n",
              "      <td>0.631891</td>\n",
              "      <td>1.158915</td>\n",
              "      <td>0.944129</td>\n",
              "      <td>1.139117</td>\n",
              "      <td>1.181423</td>\n",
              "      <td>0.940896</td>\n",
              "      <td>0.755706</td>\n",
              "      <td>0.826632</td>\n",
              "      <td>0.982217</td>\n",
              "      <td>1.163837</td>\n",
              "      <td>0.329425</td>\n",
              "      <td>1.013573</td>\n",
              "      <td>0.129392</td>\n",
              "      <td>14.135756</td>\n",
              "      <td>1.388037</td>\n",
              "    </tr>\n",
              "    <tr>\n",
              "      <th>min</th>\n",
              "      <td>1.000000</td>\n",
              "      <td>0.000000</td>\n",
              "      <td>0.000000</td>\n",
              "      <td>0.000000</td>\n",
              "      <td>0.000000</td>\n",
              "      <td>0.000000</td>\n",
              "      <td>0.000000</td>\n",
              "      <td>0.000000</td>\n",
              "      <td>0.000000</td>\n",
              "      <td>0.000000</td>\n",
              "      <td>0.000000</td>\n",
              "      <td>0.000000</td>\n",
              "      <td>0.000000</td>\n",
              "      <td>0.000000</td>\n",
              "      <td>0.000000</td>\n",
              "      <td>0.000000</td>\n",
              "      <td>0.000000</td>\n",
              "      <td>0.000000</td>\n",
              "      <td>0.000000</td>\n",
              "      <td>0.000000</td>\n",
              "      <td>0.000000</td>\n",
              "      <td>0.000000</td>\n",
              "      <td>0.000000</td>\n",
              "      <td>1.000000</td>\n",
              "    </tr>\n",
              "    <tr>\n",
              "      <th>25%</th>\n",
              "      <td>153.750000</td>\n",
              "      <td>2.000000</td>\n",
              "      <td>2.000000</td>\n",
              "      <td>1.000000</td>\n",
              "      <td>0.000000</td>\n",
              "      <td>0.000000</td>\n",
              "      <td>0.000000</td>\n",
              "      <td>1.000000</td>\n",
              "      <td>0.000000</td>\n",
              "      <td>0.000000</td>\n",
              "      <td>0.000000</td>\n",
              "      <td>1.000000</td>\n",
              "      <td>0.000000</td>\n",
              "      <td>0.000000</td>\n",
              "      <td>0.000000</td>\n",
              "      <td>0.000000</td>\n",
              "      <td>0.000000</td>\n",
              "      <td>0.000000</td>\n",
              "      <td>0.000000</td>\n",
              "      <td>0.000000</td>\n",
              "      <td>0.000000</td>\n",
              "      <td>0.000000</td>\n",
              "      <td>26.000000</td>\n",
              "      <td>1.000000</td>\n",
              "    </tr>\n",
              "    <tr>\n",
              "      <th>50%</th>\n",
              "      <td>288.000000</td>\n",
              "      <td>2.000000</td>\n",
              "      <td>2.000000</td>\n",
              "      <td>2.000000</td>\n",
              "      <td>0.000000</td>\n",
              "      <td>0.000000</td>\n",
              "      <td>0.000000</td>\n",
              "      <td>1.000000</td>\n",
              "      <td>1.000000</td>\n",
              "      <td>0.000000</td>\n",
              "      <td>1.000000</td>\n",
              "      <td>2.000000</td>\n",
              "      <td>0.000000</td>\n",
              "      <td>1.000000</td>\n",
              "      <td>0.000000</td>\n",
              "      <td>0.000000</td>\n",
              "      <td>0.000000</td>\n",
              "      <td>0.000000</td>\n",
              "      <td>0.000000</td>\n",
              "      <td>0.000000</td>\n",
              "      <td>0.000000</td>\n",
              "      <td>0.000000</td>\n",
              "      <td>36.000000</td>\n",
              "      <td>2.000000</td>\n",
              "    </tr>\n",
              "    <tr>\n",
              "      <th>75%</th>\n",
              "      <td>428.250000</td>\n",
              "      <td>3.000000</td>\n",
              "      <td>2.000000</td>\n",
              "      <td>2.000000</td>\n",
              "      <td>0.000000</td>\n",
              "      <td>2.000000</td>\n",
              "      <td>2.000000</td>\n",
              "      <td>1.000000</td>\n",
              "      <td>1.000000</td>\n",
              "      <td>0.000000</td>\n",
              "      <td>2.000000</td>\n",
              "      <td>2.000000</td>\n",
              "      <td>2.000000</td>\n",
              "      <td>2.000000</td>\n",
              "      <td>1.000000</td>\n",
              "      <td>1.000000</td>\n",
              "      <td>1.000000</td>\n",
              "      <td>1.000000</td>\n",
              "      <td>2.000000</td>\n",
              "      <td>0.000000</td>\n",
              "      <td>2.000000</td>\n",
              "      <td>0.000000</td>\n",
              "      <td>49.250000</td>\n",
              "      <td>3.000000</td>\n",
              "    </tr>\n",
              "    <tr>\n",
              "      <th>max</th>\n",
              "      <td>587.000000</td>\n",
              "      <td>3.000000</td>\n",
              "      <td>3.000000</td>\n",
              "      <td>3.000000</td>\n",
              "      <td>3.000000</td>\n",
              "      <td>3.000000</td>\n",
              "      <td>3.000000</td>\n",
              "      <td>1.000000</td>\n",
              "      <td>3.000000</td>\n",
              "      <td>3.000000</td>\n",
              "      <td>3.000000</td>\n",
              "      <td>3.000000</td>\n",
              "      <td>3.000000</td>\n",
              "      <td>3.000000</td>\n",
              "      <td>3.000000</td>\n",
              "      <td>3.000000</td>\n",
              "      <td>3.000000</td>\n",
              "      <td>3.000000</td>\n",
              "      <td>3.000000</td>\n",
              "      <td>3.000000</td>\n",
              "      <td>3.000000</td>\n",
              "      <td>1.000000</td>\n",
              "      <td>75.000000</td>\n",
              "      <td>6.000000</td>\n",
              "    </tr>\n",
              "  </tbody>\n",
              "</table>\n",
              "</div>\n",
              "      <button class=\"colab-df-convert\" onclick=\"convertToInteractive('df-f198fee6-8197-4626-955b-1ec7cfb9fb3e')\"\n",
              "              title=\"Convert this dataframe to an interactive table.\"\n",
              "              style=\"display:none;\">\n",
              "        \n",
              "  <svg xmlns=\"http://www.w3.org/2000/svg\" height=\"24px\"viewBox=\"0 0 24 24\"\n",
              "       width=\"24px\">\n",
              "    <path d=\"M0 0h24v24H0V0z\" fill=\"none\"/>\n",
              "    <path d=\"M18.56 5.44l.94 2.06.94-2.06 2.06-.94-2.06-.94-.94-2.06-.94 2.06-2.06.94zm-11 1L8.5 8.5l.94-2.06 2.06-.94-2.06-.94L8.5 2.5l-.94 2.06-2.06.94zm10 10l.94 2.06.94-2.06 2.06-.94-2.06-.94-.94-2.06-.94 2.06-2.06.94z\"/><path d=\"M17.41 7.96l-1.37-1.37c-.4-.4-.92-.59-1.43-.59-.52 0-1.04.2-1.43.59L10.3 9.45l-7.72 7.72c-.78.78-.78 2.05 0 2.83L4 21.41c.39.39.9.59 1.41.59.51 0 1.02-.2 1.41-.59l7.78-7.78 2.81-2.81c.8-.78.8-2.07 0-2.86zM5.41 20L4 18.59l7.72-7.72 1.47 1.35L5.41 20z\"/>\n",
              "  </svg>\n",
              "      </button>\n",
              "      \n",
              "  <style>\n",
              "    .colab-df-container {\n",
              "      display:flex;\n",
              "      flex-wrap:wrap;\n",
              "      gap: 12px;\n",
              "    }\n",
              "\n",
              "    .colab-df-convert {\n",
              "      background-color: #E8F0FE;\n",
              "      border: none;\n",
              "      border-radius: 50%;\n",
              "      cursor: pointer;\n",
              "      display: none;\n",
              "      fill: #1967D2;\n",
              "      height: 32px;\n",
              "      padding: 0 0 0 0;\n",
              "      width: 32px;\n",
              "    }\n",
              "\n",
              "    .colab-df-convert:hover {\n",
              "      background-color: #E2EBFA;\n",
              "      box-shadow: 0px 1px 2px rgba(60, 64, 67, 0.3), 0px 1px 3px 1px rgba(60, 64, 67, 0.15);\n",
              "      fill: #174EA6;\n",
              "    }\n",
              "\n",
              "    [theme=dark] .colab-df-convert {\n",
              "      background-color: #3B4455;\n",
              "      fill: #D2E3FC;\n",
              "    }\n",
              "\n",
              "    [theme=dark] .colab-df-convert:hover {\n",
              "      background-color: #434B5C;\n",
              "      box-shadow: 0px 1px 3px 1px rgba(0, 0, 0, 0.15);\n",
              "      filter: drop-shadow(0px 1px 2px rgba(0, 0, 0, 0.3));\n",
              "      fill: #FFFFFF;\n",
              "    }\n",
              "  </style>\n",
              "\n",
              "      <script>\n",
              "        const buttonEl =\n",
              "          document.querySelector('#df-f198fee6-8197-4626-955b-1ec7cfb9fb3e button.colab-df-convert');\n",
              "        buttonEl.style.display =\n",
              "          google.colab.kernel.accessAllowed ? 'block' : 'none';\n",
              "\n",
              "        async function convertToInteractive(key) {\n",
              "          const element = document.querySelector('#df-f198fee6-8197-4626-955b-1ec7cfb9fb3e');\n",
              "          const dataTable =\n",
              "            await google.colab.kernel.invokeFunction('convertToInteractive',\n",
              "                                                     [key], {});\n",
              "          if (!dataTable) return;\n",
              "\n",
              "          const docLinkHtml = 'Like what you see? Visit the ' +\n",
              "            '<a target=\"_blank\" href=https://colab.research.google.com/notebooks/data_table.ipynb>data table notebook</a>'\n",
              "            + ' to learn more about interactive tables.';\n",
              "          element.innerHTML = '';\n",
              "          dataTable['output_type'] = 'display_data';\n",
              "          await google.colab.output.renderOutput(dataTable, element);\n",
              "          const docLink = document.createElement('div');\n",
              "          docLink.innerHTML = docLinkHtml;\n",
              "          element.appendChild(docLink);\n",
              "        }\n",
              "      </script>\n",
              "    </div>\n",
              "  </div>\n",
              "  "
            ]
          },
          "metadata": {},
          "execution_count": 134
        }
      ]
    },
    {
      "cell_type": "code",
      "source": [
        "for column in dataset.columns[1:-1].drop(['Pre-existing symptoms']):\n",
        "    plt.title(f\"Boxplot of {column}\")\n",
        "    plt.figure()\n",
        "    dataset.boxplot([column])"
      ],
      "metadata": {
        "colab": {
          "base_uri": "https://localhost:8080/",
          "height": 1000
        },
        "id": "gDG790_V5QZC",
        "outputId": "8023610a-4547-431c-b11b-7b5c37aafe02"
      },
      "execution_count": null,
      "outputs": [
        {
          "output_type": "stream",
          "name": "stderr",
          "text": [
            "/usr/local/lib/python3.7/dist-packages/ipykernel_launcher.py:3: RuntimeWarning: More than 20 figures have been opened. Figures created through the pyplot interface (`matplotlib.pyplot.figure`) are retained until explicitly closed and may consume too much memory. (To control this warning, see the rcParam `figure.max_open_warning`).\n",
            "  This is separate from the ipykernel package so we can avoid doing imports until\n",
            "/usr/local/lib/python3.7/dist-packages/ipykernel_launcher.py:3: RuntimeWarning: More than 20 figures have been opened. Figures created through the pyplot interface (`matplotlib.pyplot.figure`) are retained until explicitly closed and may consume too much memory. (To control this warning, see the rcParam `figure.max_open_warning`).\n",
            "  This is separate from the ipykernel package so we can avoid doing imports until\n"
          ]
        },
        {
          "output_type": "display_data",
          "data": {
            "text/plain": [
              "<Figure size 432x288 with 1 Axes>"
            ],
            "image/png": "[encoded data removed]"
          },
          "metadata": {
            "needs_background": "light"
          }
        },
        {
          "output_type": "display_data",
          "data": {
            "text/plain": [
              "<Figure size 432x288 with 1 Axes>"
            ],
            "image/png": "[encoded data removed]"
          },
          "metadata": {
            "needs_background": "light"
          }
        },
        {
          "output_type": "display_data",
          "data": {
            "text/plain": [
              "<Figure size 432x288 with 1 Axes>"
            ],
            "image/png": "[encoded data removed]"
          },
          "metadata": {
            "needs_background": "light"
          }
        },
        {
          "output_type": "display_data",
          "data": {
            "text/plain": [
              "<Figure size 432x288 with 1 Axes>"
            ],
            "image/png": "[encoded data removed]"
          },
          "metadata": {
            "needs_background": "light"
          }
        },
        {
          "output_type": "display_data",
          "data": {
            "text/plain": [
              "<Figure size 432x288 with 1 Axes>"
            ],
            "image/png": "[encoded data removed]"
          },
          "metadata": {
            "needs_background": "light"
          }
        },
        {
          "output_type": "display_data",
          "data": {
            "text/plain": [
              "<Figure size 432x288 with 1 Axes>"
            ],
            "image/png": "[encoded data removed]"
          },
          "metadata": {
            "needs_background": "light"
          }
        },
        {
          "output_type": "display_data",
          "data": {
            "text/plain": [
              "<Figure size 432x288 with 1 Axes>"
            ],
            "image/png": "[encoded data removed]"
          },
          "metadata": {
            "needs_background": "light"
          }
        },
        {
          "output_type": "display_data",
          "data": {
            "text/plain": [
              "<Figure size 432x288 with 1 Axes>"
            ],
            "image/png": "[encoded data removed]"
          },
          "metadata": {
            "needs_background": "light"
          }
        },
        {
          "output_type": "display_data",
          "data": {
            "text/plain": [
              "<Figure size 432x288 with 1 Axes>"
            ],
            "image/png": "[encoded data removed]"
          },
          "metadata": {
            "needs_background": "light"
          }
        },
        {
          "output_type": "display_data",
          "data": {
            "text/plain": [
              "<Figure size 432x288 with 1 Axes>"
            ],
            "image/png": "[encoded data removed]"
          },
          "metadata": {
            "needs_background": "light"
          }
        },
        {
          "output_type": "display_data",
          "data": {
            "text/plain": [
              "<Figure size 432x288 with 1 Axes>"
            ],
            "image/png": "[encoded data removed]"
          },
          "metadata": {
            "needs_background": "light"
          }
        },
        {
          "output_type": "display_data",
          "data": {
            "text/plain": [
              "<Figure size 432x288 with 1 Axes>"
            ],
            "image/png": "[encoded data removed]"
          },
          "metadata": {
            "needs_background": "light"
          }
        },
        {
          "output_type": "display_data",
          "data": {
            "text/plain": [
              "<Figure size 432x288 with 1 Axes>"
            ],
            "image/png": "[encoded data removed]"
          },
          "metadata": {
            "needs_background": "light"
          }
        },
        {
          "output_type": "display_data",
          "data": {
            "text/plain": [
              "<Figure size 432x288 with 1 Axes>"
            ],
            "image/png": "[encoded data removed]"
          },
          "metadata": {
            "needs_background": "light"
          }
        },
        {
          "output_type": "display_data",
          "data": {
            "text/plain": [
              "<Figure size 432x288 with 1 Axes>"
            ],
            "image/png": "[encoded data removed]"
          },
          "metadata": {
            "needs_background": "light"
          }
        },
        {
          "output_type": "display_data",
          "data": {
            "text/plain": [
              "<Figure size 432x288 with 1 Axes>"
            ],
            "image/png": "[encoded data removed]"
          },
          "metadata": {
            "needs_background": "light"
          }
        },
        {
          "output_type": "display_data",
          "data": {
            "text/plain": [
              "<Figure size 432x288 with 1 Axes>"
            ],
            "image/png": "[encoded data removed]"
          },
          "metadata": {
            "needs_background": "light"
          }
        },
        {
          "output_type": "display_data",
          "data": {
            "text/plain": [
              "<Figure size 432x288 with 1 Axes>"
            ],
            "image/png": "[encoded data removed]"
          },
          "metadata": {
            "needs_background": "light"
          }
        },
        {
          "output_type": "display_data",
          "data": {
            "text/plain": [
              "<Figure size 432x288 with 1 Axes>"
            ],
            "image/png": "[encoded data removed]"
          },
          "metadata": {
            "needs_background": "light"
          }
        },
        {
          "output_type": "display_data",
          "data": {
            "text/plain": [
              "<Figure size 432x288 with 1 Axes>"
            ],
            "image/png": "[encoded data removed]"
          },
          "metadata": {
            "needs_background": "light"
          }
        },
        {
          "output_type": "display_data",
          "data": {
            "text/plain": [
              "<Figure size 432x288 with 1 Axes>"
            ],
            "image/png": "[encoded data removed]"
          },
          "metadata": {
            "needs_background": "light"
          }
        },
        {
          "output_type": "display_data",
          "data": {
            "text/plain": [
              "<Figure size 432x288 with 1 Axes>"
            ],
            "image/png": "[encoded data removed]"
          },
          "metadata": {
            "needs_background": "light"
          }
        }
      ]
    },
    {
      "cell_type": "code",
      "source": [
        "dataset.corr()"
      ],
      "metadata": {
        "colab": {
          "base_uri": "https://localhost:8080/",
          "height": 1000
        },
        "id": "dzm-rHlv5Sw4",
        "outputId": "b3438cc8-b199-4f60-879c-15ac66c05ba2"
      },
      "execution_count": null,
      "outputs": [
        {
          "output_type": "execute_result",
          "data": {
            "text/plain": [
              "                             ID     Cough  ...       Age   Variant\n",
              "ID                     1.000000 -0.065077  ...  0.019960 -0.052914\n",
              "Cough                 -0.065077  1.000000  ... -0.019258 -0.247404\n",
              "Shortness of breath    0.027031  0.298867  ...  0.027938 -0.440084\n",
              "Fatigue               -0.009440  0.080428  ...  0.060862 -0.311586\n",
              "body aches            -0.052835 -0.073539  ... -0.308825  0.415735\n",
              "Headache               0.049480  0.071681  ... -0.026778 -0.425494\n",
              "Loss of taste          0.082516  0.071215  ...  0.018028 -0.534619\n",
              "family history         0.013124 -0.096109  ...  0.028509  0.191115\n",
              "Loss of smell         -0.003630  0.152401  ...  0.056229 -0.485363\n",
              "Nausea                -0.041533 -0.239454  ... -0.056270  0.523124\n",
              "Diarrhea              -0.032268  0.042979  ... -0.008738  0.363511\n",
              "Misc Symptom 1         0.079233  0.108466  ...  0.048434 -0.434772\n",
              "Congestion             0.045458  0.034185  ...  0.084772 -0.668652\n",
              "Sore throat            0.056244  0.012387  ...  0.039198 -0.448893\n",
              "Region                 0.110359  0.071225  ...  0.110886 -0.599234\n",
              "Misc Symptom 2        -0.050679  0.039162  ...  0.076858 -0.420875\n",
              "Misc Symptom 3         0.163134 -0.007581  ...  0.017484 -0.481289\n",
              "Misc Symptom 4         0.053451  0.045215  ...  0.102032 -0.393950\n",
              "Misc Symptom 5        -0.052397  0.105202  ... -0.037951  0.313441\n",
              "Misc Symptom 6        -0.000037 -0.010886  ... -0.281311  0.417164\n",
              "Misc Symptom 7         0.065914  0.096174  ... -0.107587 -0.263662\n",
              "Pre-existing symptoms  0.022750  0.082028  ... -0.049429 -0.004636\n",
              "Age                    0.019960 -0.019258  ...  1.000000 -0.180594\n",
              "Variant               -0.052914 -0.247404  ... -0.180594  1.000000\n",
              "\n",
              "[24 rows x 24 columns]"
            ],
            "text/html": [
              "\n",
              "  <div id=\"df-04a85cab-0e1e-439d-9579-ba03c82e6ba4\">\n",
              "    <div class=\"colab-df-container\">\n",
              "      <div>\n",
              "<style scoped>\n",
              "    .dataframe tbody tr th:only-of-type {\n",
              "        vertical-align: middle;\n",
              "    }\n",
              "\n",
              "    .dataframe tbody tr th {\n",
              "        vertical-align: top;\n",
              "    }\n",
              "\n",
              "    .dataframe thead th {\n",
              "        text-align: right;\n",
              "    }\n",
              "</style>\n",
              "<table border=\"1\" class=\"dataframe\">\n",
              "  <thead>\n",
              "    <tr style=\"text-align: right;\">\n",
              "      <th></th>\n",
              "      <th>ID</th>\n",
              "      <th>Cough</th>\n",
              "      <th>Shortness of breath</th>\n",
              "      <th>Fatigue</th>\n",
              "      <th>body aches</th>\n",
              "      <th>Headache</th>\n",
              "      <th>Loss of taste</th>\n",
              "      <th>family history</th>\n",
              "      <th>Loss of smell</th>\n",
              "      <th>Nausea</th>\n",
              "      <th>Diarrhea</th>\n",
              "      <th>Misc Symptom 1</th>\n",
              "      <th>Congestion</th>\n",
              "      <th>Sore throat</th>\n",
              "      <th>Region</th>\n",
              "      <th>Misc Symptom 2</th>\n",
              "      <th>Misc Symptom 3</th>\n",
              "      <th>Misc Symptom 4</th>\n",
              "      <th>Misc Symptom 5</th>\n",
              "      <th>Misc Symptom 6</th>\n",
              "      <th>Misc Symptom 7</th>\n",
              "      <th>Pre-existing symptoms</th>\n",
              "      <th>Age</th>\n",
              "      <th>Variant</th>\n",
              "    </tr>\n",
              "  </thead>\n",
              "  <tbody>\n",
              "    <tr>\n",
              "      <th>ID</th>\n",
              "      <td>1.000000</td>\n",
              "      <td>-0.065077</td>\n",
              "      <td>0.027031</td>\n",
              "      <td>-0.009440</td>\n",
              "      <td>-0.052835</td>\n",
              "      <td>0.049480</td>\n",
              "      <td>0.082516</td>\n",
              "      <td>0.013124</td>\n",
              "      <td>-0.003630</td>\n",
              "      <td>-0.041533</td>\n",
              "      <td>-0.032268</td>\n",
              "      <td>0.079233</td>\n",
              "      <td>0.045458</td>\n",
              "      <td>0.056244</td>\n",
              "      <td>0.110359</td>\n",
              "      <td>-0.050679</td>\n",
              "      <td>0.163134</td>\n",
              "      <td>0.053451</td>\n",
              "      <td>-0.052397</td>\n",
              "      <td>-0.000037</td>\n",
              "      <td>0.065914</td>\n",
              "      <td>0.022750</td>\n",
              "      <td>0.019960</td>\n",
              "      <td>-0.052914</td>\n",
              "    </tr>\n",
              "    <tr>\n",
              "      <th>Cough</th>\n",
              "      <td>-0.065077</td>\n",
              "      <td>1.000000</td>\n",
              "      <td>0.298867</td>\n",
              "      <td>0.080428</td>\n",
              "      <td>-0.073539</td>\n",
              "      <td>0.071681</td>\n",
              "      <td>0.071215</td>\n",
              "      <td>-0.096109</td>\n",
              "      <td>0.152401</td>\n",
              "      <td>-0.239454</td>\n",
              "      <td>0.042979</td>\n",
              "      <td>0.108466</td>\n",
              "      <td>0.034185</td>\n",
              "      <td>0.012387</td>\n",
              "      <td>0.071225</td>\n",
              "      <td>0.039162</td>\n",
              "      <td>-0.007581</td>\n",
              "      <td>0.045215</td>\n",
              "      <td>0.105202</td>\n",
              "      <td>-0.010886</td>\n",
              "      <td>0.096174</td>\n",
              "      <td>0.082028</td>\n",
              "      <td>-0.019258</td>\n",
              "      <td>-0.247404</td>\n",
              "    </tr>\n",
              "    <tr>\n",
              "      <th>Shortness of breath</th>\n",
              "      <td>0.027031</td>\n",
              "      <td>0.298867</td>\n",
              "      <td>1.000000</td>\n",
              "      <td>0.249152</td>\n",
              "      <td>-0.111692</td>\n",
              "      <td>0.223411</td>\n",
              "      <td>0.233624</td>\n",
              "      <td>-0.113357</td>\n",
              "      <td>0.222474</td>\n",
              "      <td>-0.313727</td>\n",
              "      <td>-0.145500</td>\n",
              "      <td>0.265877</td>\n",
              "      <td>0.289616</td>\n",
              "      <td>0.165681</td>\n",
              "      <td>0.279836</td>\n",
              "      <td>0.246800</td>\n",
              "      <td>0.170773</td>\n",
              "      <td>0.164893</td>\n",
              "      <td>-0.061765</td>\n",
              "      <td>-0.059224</td>\n",
              "      <td>0.190850</td>\n",
              "      <td>0.010975</td>\n",
              "      <td>0.027938</td>\n",
              "      <td>-0.440084</td>\n",
              "    </tr>\n",
              "    <tr>\n",
              "      <th>Fatigue</th>\n",
              "      <td>-0.009440</td>\n",
              "      <td>0.080428</td>\n",
              "      <td>0.249152</td>\n",
              "      <td>1.000000</td>\n",
              "      <td>-0.104900</td>\n",
              "      <td>0.355960</td>\n",
              "      <td>0.270639</td>\n",
              "      <td>-0.159452</td>\n",
              "      <td>-0.048803</td>\n",
              "      <td>-0.144577</td>\n",
              "      <td>-0.340046</td>\n",
              "      <td>0.301902</td>\n",
              "      <td>0.448288</td>\n",
              "      <td>0.340510</td>\n",
              "      <td>0.383577</td>\n",
              "      <td>0.244528</td>\n",
              "      <td>0.286391</td>\n",
              "      <td>0.397552</td>\n",
              "      <td>-0.362755</td>\n",
              "      <td>-0.109174</td>\n",
              "      <td>0.015589</td>\n",
              "      <td>0.065424</td>\n",
              "      <td>0.060862</td>\n",
              "      <td>-0.311586</td>\n",
              "    </tr>\n",
              "    <tr>\n",
              "      <th>body aches</th>\n",
              "      <td>-0.052835</td>\n",
              "      <td>-0.073539</td>\n",
              "      <td>-0.111692</td>\n",
              "      <td>-0.104900</td>\n",
              "      <td>1.000000</td>\n",
              "      <td>0.166187</td>\n",
              "      <td>-0.052594</td>\n",
              "      <td>-0.117819</td>\n",
              "      <td>-0.114333</td>\n",
              "      <td>0.039344</td>\n",
              "      <td>0.021107</td>\n",
              "      <td>-0.050428</td>\n",
              "      <td>-0.086366</td>\n",
              "      <td>-0.092405</td>\n",
              "      <td>-0.108608</td>\n",
              "      <td>-0.064115</td>\n",
              "      <td>-0.101373</td>\n",
              "      <td>-0.119040</td>\n",
              "      <td>-0.004682</td>\n",
              "      <td>0.806270</td>\n",
              "      <td>0.208147</td>\n",
              "      <td>-0.029108</td>\n",
              "      <td>-0.308825</td>\n",
              "      <td>0.415735</td>\n",
              "    </tr>\n",
              "    <tr>\n",
              "      <th>Headache</th>\n",
              "      <td>0.049480</td>\n",
              "      <td>0.071681</td>\n",
              "      <td>0.223411</td>\n",
              "      <td>0.355960</td>\n",
              "      <td>0.166187</td>\n",
              "      <td>1.000000</td>\n",
              "      <td>0.551727</td>\n",
              "      <td>-0.320907</td>\n",
              "      <td>0.216618</td>\n",
              "      <td>-0.178878</td>\n",
              "      <td>-0.563847</td>\n",
              "      <td>0.421529</td>\n",
              "      <td>0.692452</td>\n",
              "      <td>0.572208</td>\n",
              "      <td>0.529384</td>\n",
              "      <td>0.394908</td>\n",
              "      <td>0.446318</td>\n",
              "      <td>0.429455</td>\n",
              "      <td>-0.525116</td>\n",
              "      <td>0.133426</td>\n",
              "      <td>0.309370</td>\n",
              "      <td>0.031701</td>\n",
              "      <td>-0.026778</td>\n",
              "      <td>-0.425494</td>\n",
              "    </tr>\n",
              "    <tr>\n",
              "      <th>Loss of taste</th>\n",
              "      <td>0.082516</td>\n",
              "      <td>0.071215</td>\n",
              "      <td>0.233624</td>\n",
              "      <td>0.270639</td>\n",
              "      <td>-0.052594</td>\n",
              "      <td>0.551727</td>\n",
              "      <td>1.000000</td>\n",
              "      <td>-0.326424</td>\n",
              "      <td>0.213221</td>\n",
              "      <td>-0.186968</td>\n",
              "      <td>-0.548653</td>\n",
              "      <td>0.480763</td>\n",
              "      <td>0.712576</td>\n",
              "      <td>0.595541</td>\n",
              "      <td>0.555135</td>\n",
              "      <td>0.401046</td>\n",
              "      <td>0.582466</td>\n",
              "      <td>0.409917</td>\n",
              "      <td>-0.517429</td>\n",
              "      <td>-0.079137</td>\n",
              "      <td>0.281982</td>\n",
              "      <td>0.020265</td>\n",
              "      <td>0.018028</td>\n",
              "      <td>-0.534619</td>\n",
              "    </tr>\n",
              "    <tr>\n",
              "      <th>family history</th>\n",
              "      <td>0.013124</td>\n",
              "      <td>-0.096109</td>\n",
              "      <td>-0.113357</td>\n",
              "      <td>-0.159452</td>\n",
              "      <td>-0.117819</td>\n",
              "      <td>-0.320907</td>\n",
              "      <td>-0.326424</td>\n",
              "      <td>1.000000</td>\n",
              "      <td>-0.125851</td>\n",
              "      <td>0.111145</td>\n",
              "      <td>0.252390</td>\n",
              "      <td>-0.224793</td>\n",
              "      <td>-0.330703</td>\n",
              "      <td>-0.285684</td>\n",
              "      <td>-0.281868</td>\n",
              "      <td>-0.247208</td>\n",
              "      <td>-0.218067</td>\n",
              "      <td>-0.250670</td>\n",
              "      <td>0.256897</td>\n",
              "      <td>-0.115125</td>\n",
              "      <td>-0.153892</td>\n",
              "      <td>-0.052211</td>\n",
              "      <td>0.028509</td>\n",
              "      <td>0.191115</td>\n",
              "    </tr>\n",
              "    <tr>\n",
              "      <th>Loss of smell</th>\n",
              "      <td>-0.003630</td>\n",
              "      <td>0.152401</td>\n",
              "      <td>0.222474</td>\n",
              "      <td>-0.048803</td>\n",
              "      <td>-0.114333</td>\n",
              "      <td>0.216618</td>\n",
              "      <td>0.213221</td>\n",
              "      <td>-0.125851</td>\n",
              "      <td>1.000000</td>\n",
              "      <td>-0.241842</td>\n",
              "      <td>-0.179225</td>\n",
              "      <td>0.092528</td>\n",
              "      <td>0.275198</td>\n",
              "      <td>0.192996</td>\n",
              "      <td>0.288752</td>\n",
              "      <td>0.307415</td>\n",
              "      <td>0.157559</td>\n",
              "      <td>0.058938</td>\n",
              "      <td>-0.106177</td>\n",
              "      <td>-0.116784</td>\n",
              "      <td>0.102612</td>\n",
              "      <td>-0.053541</td>\n",
              "      <td>0.056229</td>\n",
              "      <td>-0.485363</td>\n",
              "    </tr>\n",
              "    <tr>\n",
              "      <th>Nausea</th>\n",
              "      <td>-0.041533</td>\n",
              "      <td>-0.239454</td>\n",
              "      <td>-0.313727</td>\n",
              "      <td>-0.144577</td>\n",
              "      <td>0.039344</td>\n",
              "      <td>-0.178878</td>\n",
              "      <td>-0.186968</td>\n",
              "      <td>0.111145</td>\n",
              "      <td>-0.241842</td>\n",
              "      <td>1.000000</td>\n",
              "      <td>-0.110304</td>\n",
              "      <td>-0.172894</td>\n",
              "      <td>-0.214219</td>\n",
              "      <td>0.178132</td>\n",
              "      <td>-0.185885</td>\n",
              "      <td>-0.141974</td>\n",
              "      <td>-0.128752</td>\n",
              "      <td>-0.150167</td>\n",
              "      <td>-0.152622</td>\n",
              "      <td>-0.035973</td>\n",
              "      <td>-0.183307</td>\n",
              "      <td>0.024124</td>\n",
              "      <td>-0.056270</td>\n",
              "      <td>0.523124</td>\n",
              "    </tr>\n",
              "    <tr>\n",
              "      <th>Diarrhea</th>\n",
              "      <td>-0.032268</td>\n",
              "      <td>0.042979</td>\n",
              "      <td>-0.145500</td>\n",
              "      <td>-0.340046</td>\n",
              "      <td>0.021107</td>\n",
              "      <td>-0.563847</td>\n",
              "      <td>-0.548653</td>\n",
              "      <td>0.252390</td>\n",
              "      <td>-0.179225</td>\n",
              "      <td>-0.110304</td>\n",
              "      <td>1.000000</td>\n",
              "      <td>-0.452409</td>\n",
              "      <td>-0.686176</td>\n",
              "      <td>-0.753623</td>\n",
              "      <td>-0.569365</td>\n",
              "      <td>-0.394442</td>\n",
              "      <td>-0.529049</td>\n",
              "      <td>-0.400334</td>\n",
              "      <td>0.672889</td>\n",
              "      <td>0.072765</td>\n",
              "      <td>-0.250411</td>\n",
              "      <td>-0.079828</td>\n",
              "      <td>-0.008738</td>\n",
              "      <td>0.363511</td>\n",
              "    </tr>\n",
              "    <tr>\n",
              "      <th>Misc Symptom 1</th>\n",
              "      <td>0.079233</td>\n",
              "      <td>0.108466</td>\n",
              "      <td>0.265877</td>\n",
              "      <td>0.301902</td>\n",
              "      <td>-0.050428</td>\n",
              "      <td>0.421529</td>\n",
              "      <td>0.480763</td>\n",
              "      <td>-0.224793</td>\n",
              "      <td>0.092528</td>\n",
              "      <td>-0.172894</td>\n",
              "      <td>-0.452409</td>\n",
              "      <td>1.000000</td>\n",
              "      <td>0.559650</td>\n",
              "      <td>0.462236</td>\n",
              "      <td>0.439131</td>\n",
              "      <td>0.276686</td>\n",
              "      <td>0.358080</td>\n",
              "      <td>0.316013</td>\n",
              "      <td>-0.368416</td>\n",
              "      <td>-0.008431</td>\n",
              "      <td>0.492615</td>\n",
              "      <td>0.021125</td>\n",
              "      <td>0.048434</td>\n",
              "      <td>-0.434772</td>\n",
              "    </tr>\n",
              "    <tr>\n",
              "      <th>Congestion</th>\n",
              "      <td>0.045458</td>\n",
              "      <td>0.034185</td>\n",
              "      <td>0.289616</td>\n",
              "      <td>0.448288</td>\n",
              "      <td>-0.086366</td>\n",
              "      <td>0.692452</td>\n",
              "      <td>0.712576</td>\n",
              "      <td>-0.330703</td>\n",
              "      <td>0.275198</td>\n",
              "      <td>-0.214219</td>\n",
              "      <td>-0.686176</td>\n",
              "      <td>0.559650</td>\n",
              "      <td>1.000000</td>\n",
              "      <td>0.754285</td>\n",
              "      <td>0.733199</td>\n",
              "      <td>0.527197</td>\n",
              "      <td>0.622058</td>\n",
              "      <td>0.588387</td>\n",
              "      <td>-0.664440</td>\n",
              "      <td>-0.121431</td>\n",
              "      <td>0.313748</td>\n",
              "      <td>0.027446</td>\n",
              "      <td>0.084772</td>\n",
              "      <td>-0.668652</td>\n",
              "    </tr>\n",
              "    <tr>\n",
              "      <th>Sore throat</th>\n",
              "      <td>0.056244</td>\n",
              "      <td>0.012387</td>\n",
              "      <td>0.165681</td>\n",
              "      <td>0.340510</td>\n",
              "      <td>-0.092405</td>\n",
              "      <td>0.572208</td>\n",
              "      <td>0.595541</td>\n",
              "      <td>-0.285684</td>\n",
              "      <td>0.192996</td>\n",
              "      <td>0.178132</td>\n",
              "      <td>-0.753623</td>\n",
              "      <td>0.462236</td>\n",
              "      <td>0.754285</td>\n",
              "      <td>1.000000</td>\n",
              "      <td>0.652169</td>\n",
              "      <td>0.419973</td>\n",
              "      <td>0.502183</td>\n",
              "      <td>0.435619</td>\n",
              "      <td>-0.712296</td>\n",
              "      <td>-0.145063</td>\n",
              "      <td>0.217588</td>\n",
              "      <td>0.048792</td>\n",
              "      <td>0.039198</td>\n",
              "      <td>-0.448893</td>\n",
              "    </tr>\n",
              "    <tr>\n",
              "      <th>Region</th>\n",
              "      <td>0.110359</td>\n",
              "      <td>0.071225</td>\n",
              "      <td>0.279836</td>\n",
              "      <td>0.383577</td>\n",
              "      <td>-0.108608</td>\n",
              "      <td>0.529384</td>\n",
              "      <td>0.555135</td>\n",
              "      <td>-0.281868</td>\n",
              "      <td>0.288752</td>\n",
              "      <td>-0.185885</td>\n",
              "      <td>-0.569365</td>\n",
              "      <td>0.439131</td>\n",
              "      <td>0.733199</td>\n",
              "      <td>0.652169</td>\n",
              "      <td>1.000000</td>\n",
              "      <td>0.474112</td>\n",
              "      <td>0.566324</td>\n",
              "      <td>0.481148</td>\n",
              "      <td>-0.576340</td>\n",
              "      <td>-0.106773</td>\n",
              "      <td>0.284581</td>\n",
              "      <td>0.043124</td>\n",
              "      <td>0.110886</td>\n",
              "      <td>-0.599234</td>\n",
              "    </tr>\n",
              "    <tr>\n",
              "      <th>Misc Symptom 2</th>\n",
              "      <td>-0.050679</td>\n",
              "      <td>0.039162</td>\n",
              "      <td>0.246800</td>\n",
              "      <td>0.244528</td>\n",
              "      <td>-0.064115</td>\n",
              "      <td>0.394908</td>\n",
              "      <td>0.401046</td>\n",
              "      <td>-0.247208</td>\n",
              "      <td>0.307415</td>\n",
              "      <td>-0.141974</td>\n",
              "      <td>-0.394442</td>\n",
              "      <td>0.276686</td>\n",
              "      <td>0.527197</td>\n",
              "      <td>0.419973</td>\n",
              "      <td>0.474112</td>\n",
              "      <td>1.000000</td>\n",
              "      <td>0.285044</td>\n",
              "      <td>0.265130</td>\n",
              "      <td>-0.355817</td>\n",
              "      <td>-0.093370</td>\n",
              "      <td>0.184083</td>\n",
              "      <td>0.055080</td>\n",
              "      <td>0.076858</td>\n",
              "      <td>-0.420875</td>\n",
              "    </tr>\n",
              "    <tr>\n",
              "      <th>Misc Symptom 3</th>\n",
              "      <td>0.163134</td>\n",
              "      <td>-0.007581</td>\n",
              "      <td>0.170773</td>\n",
              "      <td>0.286391</td>\n",
              "      <td>-0.101373</td>\n",
              "      <td>0.446318</td>\n",
              "      <td>0.582466</td>\n",
              "      <td>-0.218067</td>\n",
              "      <td>0.157559</td>\n",
              "      <td>-0.128752</td>\n",
              "      <td>-0.529049</td>\n",
              "      <td>0.358080</td>\n",
              "      <td>0.622058</td>\n",
              "      <td>0.502183</td>\n",
              "      <td>0.566324</td>\n",
              "      <td>0.285044</td>\n",
              "      <td>1.000000</td>\n",
              "      <td>0.417541</td>\n",
              "      <td>-0.472204</td>\n",
              "      <td>-0.103055</td>\n",
              "      <td>0.228003</td>\n",
              "      <td>0.014466</td>\n",
              "      <td>0.017484</td>\n",
              "      <td>-0.481289</td>\n",
              "    </tr>\n",
              "    <tr>\n",
              "      <th>Misc Symptom 4</th>\n",
              "      <td>0.053451</td>\n",
              "      <td>0.045215</td>\n",
              "      <td>0.164893</td>\n",
              "      <td>0.397552</td>\n",
              "      <td>-0.119040</td>\n",
              "      <td>0.429455</td>\n",
              "      <td>0.409917</td>\n",
              "      <td>-0.250670</td>\n",
              "      <td>0.058938</td>\n",
              "      <td>-0.150167</td>\n",
              "      <td>-0.400334</td>\n",
              "      <td>0.316013</td>\n",
              "      <td>0.588387</td>\n",
              "      <td>0.435619</td>\n",
              "      <td>0.481148</td>\n",
              "      <td>0.265130</td>\n",
              "      <td>0.417541</td>\n",
              "      <td>1.000000</td>\n",
              "      <td>-0.385994</td>\n",
              "      <td>-0.109071</td>\n",
              "      <td>0.184176</td>\n",
              "      <td>0.014730</td>\n",
              "      <td>0.102032</td>\n",
              "      <td>-0.393950</td>\n",
              "    </tr>\n",
              "    <tr>\n",
              "      <th>Misc Symptom 5</th>\n",
              "      <td>-0.052397</td>\n",
              "      <td>0.105202</td>\n",
              "      <td>-0.061765</td>\n",
              "      <td>-0.362755</td>\n",
              "      <td>-0.004682</td>\n",
              "      <td>-0.525116</td>\n",
              "      <td>-0.517429</td>\n",
              "      <td>0.256897</td>\n",
              "      <td>-0.106177</td>\n",
              "      <td>-0.152622</td>\n",
              "      <td>0.672889</td>\n",
              "      <td>-0.368416</td>\n",
              "      <td>-0.664440</td>\n",
              "      <td>-0.712296</td>\n",
              "      <td>-0.576340</td>\n",
              "      <td>-0.355817</td>\n",
              "      <td>-0.472204</td>\n",
              "      <td>-0.385994</td>\n",
              "      <td>1.000000</td>\n",
              "      <td>0.054836</td>\n",
              "      <td>-0.188556</td>\n",
              "      <td>-0.061608</td>\n",
              "      <td>-0.037951</td>\n",
              "      <td>0.313441</td>\n",
              "    </tr>\n",
              "    <tr>\n",
              "      <th>Misc Symptom 6</th>\n",
              "      <td>-0.000037</td>\n",
              "      <td>-0.010886</td>\n",
              "      <td>-0.059224</td>\n",
              "      <td>-0.109174</td>\n",
              "      <td>0.806270</td>\n",
              "      <td>0.133426</td>\n",
              "      <td>-0.079137</td>\n",
              "      <td>-0.115125</td>\n",
              "      <td>-0.116784</td>\n",
              "      <td>-0.035973</td>\n",
              "      <td>0.072765</td>\n",
              "      <td>-0.008431</td>\n",
              "      <td>-0.121431</td>\n",
              "      <td>-0.145063</td>\n",
              "      <td>-0.106773</td>\n",
              "      <td>-0.093370</td>\n",
              "      <td>-0.103055</td>\n",
              "      <td>-0.109071</td>\n",
              "      <td>0.054836</td>\n",
              "      <td>1.000000</td>\n",
              "      <td>0.236508</td>\n",
              "      <td>-0.023276</td>\n",
              "      <td>-0.281311</td>\n",
              "      <td>0.417164</td>\n",
              "    </tr>\n",
              "    <tr>\n",
              "      <th>Misc Symptom 7</th>\n",
              "      <td>0.065914</td>\n",
              "      <td>0.096174</td>\n",
              "      <td>0.190850</td>\n",
              "      <td>0.015589</td>\n",
              "      <td>0.208147</td>\n",
              "      <td>0.309370</td>\n",
              "      <td>0.281982</td>\n",
              "      <td>-0.153892</td>\n",
              "      <td>0.102612</td>\n",
              "      <td>-0.183307</td>\n",
              "      <td>-0.250411</td>\n",
              "      <td>0.492615</td>\n",
              "      <td>0.313748</td>\n",
              "      <td>0.217588</td>\n",
              "      <td>0.284581</td>\n",
              "      <td>0.184083</td>\n",
              "      <td>0.228003</td>\n",
              "      <td>0.184176</td>\n",
              "      <td>-0.188556</td>\n",
              "      <td>0.236508</td>\n",
              "      <td>1.000000</td>\n",
              "      <td>0.021794</td>\n",
              "      <td>-0.107587</td>\n",
              "      <td>-0.263662</td>\n",
              "    </tr>\n",
              "    <tr>\n",
              "      <th>Pre-existing symptoms</th>\n",
              "      <td>0.022750</td>\n",
              "      <td>0.082028</td>\n",
              "      <td>0.010975</td>\n",
              "      <td>0.065424</td>\n",
              "      <td>-0.029108</td>\n",
              "      <td>0.031701</td>\n",
              "      <td>0.020265</td>\n",
              "      <td>-0.052211</td>\n",
              "      <td>-0.053541</td>\n",
              "      <td>0.024124</td>\n",
              "      <td>-0.079828</td>\n",
              "      <td>0.021125</td>\n",
              "      <td>0.027446</td>\n",
              "      <td>0.048792</td>\n",
              "      <td>0.043124</td>\n",
              "      <td>0.055080</td>\n",
              "      <td>0.014466</td>\n",
              "      <td>0.014730</td>\n",
              "      <td>-0.061608</td>\n",
              "      <td>-0.023276</td>\n",
              "      <td>0.021794</td>\n",
              "      <td>1.000000</td>\n",
              "      <td>-0.049429</td>\n",
              "      <td>-0.004636</td>\n",
              "    </tr>\n",
              "    <tr>\n",
              "      <th>Age</th>\n",
              "      <td>0.019960</td>\n",
              "      <td>-0.019258</td>\n",
              "      <td>0.027938</td>\n",
              "      <td>0.060862</td>\n",
              "      <td>-0.308825</td>\n",
              "      <td>-0.026778</td>\n",
              "      <td>0.018028</td>\n",
              "      <td>0.028509</td>\n",
              "      <td>0.056229</td>\n",
              "      <td>-0.056270</td>\n",
              "      <td>-0.008738</td>\n",
              "      <td>0.048434</td>\n",
              "      <td>0.084772</td>\n",
              "      <td>0.039198</td>\n",
              "      <td>0.110886</td>\n",
              "      <td>0.076858</td>\n",
              "      <td>0.017484</td>\n",
              "      <td>0.102032</td>\n",
              "      <td>-0.037951</td>\n",
              "      <td>-0.281311</td>\n",
              "      <td>-0.107587</td>\n",
              "      <td>-0.049429</td>\n",
              "      <td>1.000000</td>\n",
              "      <td>-0.180594</td>\n",
              "    </tr>\n",
              "    <tr>\n",
              "      <th>Variant</th>\n",
              "      <td>-0.052914</td>\n",
              "      <td>-0.247404</td>\n",
              "      <td>-0.440084</td>\n",
              "      <td>-0.311586</td>\n",
              "      <td>0.415735</td>\n",
              "      <td>-0.425494</td>\n",
              "      <td>-0.534619</td>\n",
              "      <td>0.191115</td>\n",
              "      <td>-0.485363</td>\n",
              "      <td>0.523124</td>\n",
              "      <td>0.363511</td>\n",
              "      <td>-0.434772</td>\n",
              "      <td>-0.668652</td>\n",
              "      <td>-0.448893</td>\n",
              "      <td>-0.599234</td>\n",
              "      <td>-0.420875</td>\n",
              "      <td>-0.481289</td>\n",
              "      <td>-0.393950</td>\n",
              "      <td>0.313441</td>\n",
              "      <td>0.417164</td>\n",
              "      <td>-0.263662</td>\n",
              "      <td>-0.004636</td>\n",
              "      <td>-0.180594</td>\n",
              "      <td>1.000000</td>\n",
              "    </tr>\n",
              "  </tbody>\n",
              "</table>\n",
              "</div>\n",
              "      <button class=\"colab-df-convert\" onclick=\"convertToInteractive('df-04a85cab-0e1e-439d-9579-ba03c82e6ba4')\"\n",
              "              title=\"Convert this dataframe to an interactive table.\"\n",
              "              style=\"display:none;\">\n",
              "        \n",
              "  <svg xmlns=\"http://www.w3.org/2000/svg\" height=\"24px\"viewBox=\"0 0 24 24\"\n",
              "       width=\"24px\">\n",
              "    <path d=\"M0 0h24v24H0V0z\" fill=\"none\"/>\n",
              "    <path d=\"M18.56 5.44l.94 2.06.94-2.06 2.06-.94-2.06-.94-.94-2.06-.94 2.06-2.06.94zm-11 1L8.5 8.5l.94-2.06 2.06-.94-2.06-.94L8.5 2.5l-.94 2.06-2.06.94zm10 10l.94 2.06.94-2.06 2.06-.94-2.06-.94-.94-2.06-.94 2.06-2.06.94z\"/><path d=\"M17.41 7.96l-1.37-1.37c-.4-.4-.92-.59-1.43-.59-.52 0-1.04.2-1.43.59L10.3 9.45l-7.72 7.72c-.78.78-.78 2.05 0 2.83L4 21.41c.39.39.9.59 1.41.59.51 0 1.02-.2 1.41-.59l7.78-7.78 2.81-2.81c.8-.78.8-2.07 0-2.86zM5.41 20L4 18.59l7.72-7.72 1.47 1.35L5.41 20z\"/>\n",
              "  </svg>\n",
              "      </button>\n",
              "      \n",
              "  <style>\n",
              "    .colab-df-container {\n",
              "      display:flex;\n",
              "      flex-wrap:wrap;\n",
              "      gap: 12px;\n",
              "    }\n",
              "\n",
              "    .colab-df-convert {\n",
              "      background-color: #E8F0FE;\n",
              "      border: none;\n",
              "      border-radius: 50%;\n",
              "      cursor: pointer;\n",
              "      display: none;\n",
              "      fill: #1967D2;\n",
              "      height: 32px;\n",
              "      padding: 0 0 0 0;\n",
              "      width: 32px;\n",
              "    }\n",
              "\n",
              "    .colab-df-convert:hover {\n",
              "      background-color: #E2EBFA;\n",
              "      box-shadow: 0px 1px 2px rgba(60, 64, 67, 0.3), 0px 1px 3px 1px rgba(60, 64, 67, 0.15);\n",
              "      fill: #174EA6;\n",
              "    }\n",
              "\n",
              "    [theme=dark] .colab-df-convert {\n",
              "      background-color: #3B4455;\n",
              "      fill: #D2E3FC;\n",
              "    }\n",
              "\n",
              "    [theme=dark] .colab-df-convert:hover {\n",
              "      background-color: #434B5C;\n",
              "      box-shadow: 0px 1px 3px 1px rgba(0, 0, 0, 0.15);\n",
              "      filter: drop-shadow(0px 1px 2px rgba(0, 0, 0, 0.3));\n",
              "      fill: #FFFFFF;\n",
              "    }\n",
              "  </style>\n",
              "\n",
              "      <script>\n",
              "        const buttonEl =\n",
              "          document.querySelector('#df-04a85cab-0e1e-439d-9579-ba03c82e6ba4 button.colab-df-convert');\n",
              "        buttonEl.style.display =\n",
              "          google.colab.kernel.accessAllowed ? 'block' : 'none';\n",
              "\n",
              "        async function convertToInteractive(key) {\n",
              "          const element = document.querySelector('#df-04a85cab-0e1e-439d-9579-ba03c82e6ba4');\n",
              "          const dataTable =\n",
              "            await google.colab.kernel.invokeFunction('convertToInteractive',\n",
              "                                                     [key], {});\n",
              "          if (!dataTable) return;\n",
              "\n",
              "          const docLinkHtml = 'Like what you see? Visit the ' +\n",
              "            '<a target=\"_blank\" href=https://colab.research.google.com/notebooks/data_table.ipynb>data table notebook</a>'\n",
              "            + ' to learn more about interactive tables.';\n",
              "          element.innerHTML = '';\n",
              "          dataTable['output_type'] = 'display_data';\n",
              "          await google.colab.output.renderOutput(dataTable, element);\n",
              "          const docLink = document.createElement('div');\n",
              "          docLink.innerHTML = docLinkHtml;\n",
              "          element.appendChild(docLink);\n",
              "        }\n",
              "      </script>\n",
              "    </div>\n",
              "  </div>\n",
              "  "
            ]
          },
          "metadata": {},
          "execution_count": 136
        }
      ]
    },
    {
      "cell_type": "code",
      "source": [
        "fig, ax = plt.subplots(figsize =(10, 10))\n",
        "ax.hist(y, bins = 5)\n",
        "plt.ylabel('Number of patients')\n",
        "plt.xlabel('Variant')\n",
        "plt.title('Histogram')"
      ],
      "metadata": {
        "colab": {
          "base_uri": "https://localhost:8080/",
          "height": 639
        },
        "id": "GtWBeG8I5UUn",
        "outputId": "1999546a-0aac-45df-ea96-6a8d0b8cb573"
      },
      "execution_count": null,
      "outputs": [
        {
          "output_type": "execute_result",
          "data": {
            "text/plain": [
              "Text(0.5, 1.0, 'Histogram')"
            ]
          },
          "metadata": {},
          "execution_count": 137
        },
        {
          "output_type": "display_data",
          "data": {
            "text/plain": [
              "<Figure size 720x720 with 1 Axes>"
            ],
            "image/png": "[encoded data removed]"
          },
          "metadata": {
            "needs_background": "light"
          }
        }
      ]
    }
  ]
}